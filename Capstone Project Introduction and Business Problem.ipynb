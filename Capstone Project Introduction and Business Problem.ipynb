{
 "cells": [
  {
   "cell_type": "markdown",
   "metadata": {},
   "source": [
    "# Does Logan Utah need more Parks? "
   ]
  },
  {
   "cell_type": "markdown",
   "metadata": {},
   "source": [
    "Data Science Capstone - IBM Data Science Professional Certificate on Coursera"
   ]
  },
  {
   "cell_type": "markdown",
   "metadata": {},
   "source": [
    "## Introduction"
   ]
  },
  {
   "cell_type": "markdown",
   "metadata": {},
   "source": [
    "The Logan Mayor wants to improve his city and thinks that adding a new park will do that.  He has asked the question does his city, Logan Ut, need more parks?   \n",
    "\n",
    "Parks are an essential public service.  Access to parks and recreation facilities leads to healthy lifestyles. Playing at parks encourage the development of socialization skills, improves coordination and self-esteem. Strong evidence shows that when people have access to parks, they exercise more.  As the obesity rates in this country increase parks have been a big factor in encouraging physical activity.  \n",
    "\n",
    "Another benefit of parks is they provide a green space in a city. Green spaces have the ability to improve the physical and mental health of people which in turn improves their quality of life. Parks are important because many trees are planted and maintained.  Protecting trees are important as they clean the air we breathe and provide shade. It is estimated that U.S. urban trees alone remove 75,000 tons of air pollutants annually. Conservation of trees are able to happen at parks.  It provides green space for trees to thrive and grow.\n",
    "\n",
    "Their is a social benefit for parks. Parks are a reflection of the quality of life in a community. They are a major factor in the perception of quality of life in a community. Parks and recreation services are often cited as one of the most important factors in surveys of how livable communities are.  Not only can parks bring a sense of community but they can also reduce crime. Access to parks has been strongly linked to reductions in crime and to reduced juvenile delinquency.   \n",
    "\n",
    "Parks can also help the economy in the city they are located.  Parks increase property value of residential properties by as much as 20% of the properties value. The economic impact that large tournaments, competitions and special events hosted in public parks bring to the local economy can offset park maintenance operating budgets. Having destination attractions in parks such as exhibits and state-of-the-art play spaces also attract tourist dollars. \n",
    "\n",
    "Despite all the benefits that parks bring to the community parks are often overlooked and are not readily available to some of the population.  As population increases the parks acreage does not always follow suite.  It is important for city leader to take a look at its park acreage and access if they need add parks to their city."
   ]
  },
  {
   "cell_type": "code",
   "execution_count": null,
   "metadata": {},
   "outputs": [],
   "source": []
  }
 ],
 "metadata": {
  "kernelspec": {
   "display_name": "Python 3",
   "language": "python",
   "name": "python3"
  },
  "language_info": {
   "codemirror_mode": {
    "name": "ipython",
    "version": 3
   },
   "file_extension": ".py",
   "mimetype": "text/x-python",
   "name": "python",
   "nbconvert_exporter": "python",
   "pygments_lexer": "ipython3",
   "version": "3.7.6"
  }
 },
 "nbformat": 4,
 "nbformat_minor": 4
}
